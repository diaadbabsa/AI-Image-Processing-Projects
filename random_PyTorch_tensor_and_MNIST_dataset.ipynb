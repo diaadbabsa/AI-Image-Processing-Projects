{
  "nbformat": 4,
  "nbformat_minor": 0,
  "metadata": {
    "colab": {
      "provenance": [],
      "include_colab_link": true
    },
    "kernelspec": {
      "name": "python3",
      "display_name": "Python 3"
    },
    "language_info": {
      "name": "python"
    }
  },
  "cells": [
    {
      "cell_type": "markdown",
      "metadata": {
        "id": "view-in-github",
        "colab_type": "text"
      },
      "source": [
        "<a href=\"https://colab.research.google.com/github/diaadbabsa/AI-Image-Processing-Projects/blob/main/random_PyTorch_tensor_and_MNIST_dataset.ipynb\" target=\"_parent\"><img src=\"https://colab.research.google.com/assets/colab-badge.svg\" alt=\"Open In Colab\"/></a>"
      ]
    },
    {
      "cell_type": "markdown",
      "source": [
        "# Optional Assignment: Advanced NumPy and PyTorch Operations with MNIST\n",
        "\n",
        "\n",
        "Description:\n",
        "This optional assignment is designed to enhance your skills in NumPy and PyTorch,\n",
        "focusing on tensor operations using the MNIST dataset. By completing this assignment,\n",
        "you'll gain hands-on experience with advanced tensor manipulations, data preprocessing,\n",
        "and visualization techniques commonly used in deep learning projects.\n",
        "\n",
        "Objectives:\n",
        "1. Practice tensor operations in PyTorch\n",
        "2. Explore data manipulation techniques with the MNIST dataset\n",
        "3. Gain experience in converting between NumPy arrays and PyTorch tensors\n",
        "4. Enhance your understanding of tensor shapes and dimensions\n",
        "\n",
        "Note: This assignment is entirely optional. It's meant to provide additional practice\n",
        "and deepen your understanding of NumPy and PyTorch. Feel free to explore, experiment,\n",
        "and refer to the official documentation as you work through the exercises.\n",
        "\n",
        "Good luck and enjoy the learning process!\n"
      ],
      "metadata": {
        "id": "UeGh6JnCKV13"
      }
    },
    {
      "cell_type": "code",
      "execution_count": null,
      "metadata": {
        "colab": {
          "base_uri": "https://localhost:8080/"
        },
        "id": "Vyt7fLCkHc8m",
        "outputId": "b5afc100-e66b-4bb6-870c-14ce51359de3"
      },
      "outputs": [
        {
          "output_type": "stream",
          "name": "stdout",
          "text": [
            "Random NumPy array:\n",
            "[[0.77310906 0.4425354  0.15269125 0.03006481]\n",
            " [0.88643636 0.95762063 0.31141567 0.90231526]\n",
            " [0.58070828 0.53464888 0.96716521 0.57349888]]\n",
            "\n",
            "Random PyTorch tensor:\n",
            "tensor([[0.4742, 0.1807, 0.8404, 0.7681],\n",
            "        [0.1617, 0.3805, 0.3654, 0.0746],\n",
            "        [0.1404, 0.1504, 0.7054, 0.2661]])\n"
          ]
        }
      ],
      "source": [
        "# NumPy and PyTorch Tensor Operations Assignment\n",
        "\n",
        "import numpy as np\n",
        "import torch\n",
        "import matplotlib.pyplot as plt\n",
        "from torchvision import datasets, transforms\n",
        "\n",
        "# Create a random NumPy array\n",
        "np_random = np.random.rand(3, 4)\n",
        "print(\"Random NumPy array:\")\n",
        "print(np_random)\n",
        "\n",
        "# Create a random PyTorch tensor\n",
        "torch_random = torch.rand(3, 4)\n",
        "print(\"\\nRandom PyTorch tensor:\")\n",
        "print(torch_random)\n",
        "\n"
      ]
    },
    {
      "cell_type": "code",
      "source": [
        "#  Reshaping\n",
        "# Reshape NumPy array\n",
        "np_reshaped = np_random.reshape(2, 6)\n",
        "print(\"Reshaped NumPy array:\")\n",
        "print(np_reshaped)\n",
        "\n",
        "# Reshape PyTorch tensor\n",
        "torch_reshaped = torch_random.reshape(2, 6)\n",
        "print(\"\\nReshaped PyTorch tensor:\")\n",
        "print(torch_reshaped)\n"
      ],
      "metadata": {
        "colab": {
          "base_uri": "https://localhost:8080/"
        },
        "id": "Zw_MnP7GH7pm",
        "outputId": "898547ab-831f-447a-8d14-62cd0ce95c46"
      },
      "execution_count": null,
      "outputs": [
        {
          "output_type": "stream",
          "name": "stdout",
          "text": [
            "Reshaped NumPy array:\n",
            "[[0.77310906 0.4425354  0.15269125 0.03006481 0.88643636 0.95762063]\n",
            " [0.31141567 0.90231526 0.58070828 0.53464888 0.96716521 0.57349888]]\n",
            "\n",
            "Reshaped PyTorch tensor:\n",
            "tensor([[0.4742, 0.1807, 0.8404, 0.7681, 0.1617, 0.3805],\n",
            "        [0.3654, 0.0746, 0.1404, 0.1504, 0.7054, 0.2661]])\n"
          ]
        }
      ]
    },
    {
      "cell_type": "code",
      "source": [
        "# NumPy array multiplication\n",
        "np_mult = np.multiply(np_random, 2)\n",
        "print(\"NumPy array multiplication:\")\n",
        "print(np_mult)\n",
        "\n",
        "# PyTorch tensor multiplication\n",
        "torch_mult = torch.mul(torch_random, 2)\n",
        "print(\"\\nPyTorch tensor multiplication:\")\n",
        "print(torch_mult)"
      ],
      "metadata": {
        "colab": {
          "base_uri": "https://localhost:8080/"
        },
        "id": "dm4nBKieH7wl",
        "outputId": "2ed69cba-61f8-4cd8-d9cb-7e9e2847c306"
      },
      "execution_count": null,
      "outputs": [
        {
          "output_type": "stream",
          "name": "stdout",
          "text": [
            "NumPy array multiplication:\n",
            "[[1.54621811 0.88507079 0.30538249 0.06012962]\n",
            " [1.77287273 1.91524126 0.62283134 1.80463053]\n",
            " [1.16141656 1.06929775 1.93433042 1.14699776]]\n",
            "\n",
            "PyTorch tensor multiplication:\n",
            "tensor([[0.9485, 0.3614, 1.6808, 1.5361],\n",
            "        [0.3234, 0.7609, 0.7308, 0.1492],\n",
            "        [0.2808, 0.3009, 1.4109, 0.5323]])\n"
          ]
        }
      ]
    },
    {
      "cell_type": "code",
      "source": [
        "#  Permute shape\n",
        "# Permute NumPy array\n",
        "np_permuted = np.transpose(np_random, (1, 0))\n",
        "print(\"Permuted NumPy array:\")\n",
        "print(np_permuted)\n",
        "\n",
        "# Permute PyTorch tensor\n",
        "torch_permuted = torch_random.permute(1, 0)\n",
        "print(\"\\nPermuted PyTorch tensor:\")\n",
        "print(torch_permuted)\n"
      ],
      "metadata": {
        "colab": {
          "base_uri": "https://localhost:8080/"
        },
        "id": "8w3j6Z6PH7z-",
        "outputId": "81f3935b-f204-449d-f81e-029d3872a8ec"
      },
      "execution_count": null,
      "outputs": [
        {
          "output_type": "stream",
          "name": "stdout",
          "text": [
            "Permuted NumPy array:\n",
            "[[0.77310906 0.88643636 0.58070828]\n",
            " [0.4425354  0.95762063 0.53464888]\n",
            " [0.15269125 0.31141567 0.96716521]\n",
            " [0.03006481 0.90231526 0.57349888]]\n",
            "\n",
            "Permuted PyTorch tensor:\n",
            "tensor([[0.4742, 0.1617, 0.1404],\n",
            "        [0.1807, 0.3805, 0.1504],\n",
            "        [0.8404, 0.3654, 0.7054],\n",
            "        [0.7681, 0.0746, 0.2661]])\n"
          ]
        }
      ]
    },
    {
      "cell_type": "code",
      "source": [
        "# Convert between NumPy and PyTorch\n",
        "# NumPy to PyTorch\n",
        "np_to_torch = torch.from_numpy(np_random)\n",
        "print(\"NumPy to PyTorch:\")\n",
        "print(np_to_torch)\n",
        "\n",
        "# PyTorch to NumPy\n",
        "torch_to_np = torch_random.numpy()\n",
        "print(\"\\nPyTorch to NumPy:\")\n",
        "print(torch_to_np)"
      ],
      "metadata": {
        "colab": {
          "base_uri": "https://localhost:8080/"
        },
        "id": "4fGkJdSiH73F",
        "outputId": "e00d830c-ac34-4d53-cecb-2853903b2ca2"
      },
      "execution_count": null,
      "outputs": [
        {
          "output_type": "stream",
          "name": "stdout",
          "text": [
            "NumPy to PyTorch:\n",
            "tensor([[0.7731, 0.4425, 0.1527, 0.0301],\n",
            "        [0.8864, 0.9576, 0.3114, 0.9023],\n",
            "        [0.5807, 0.5346, 0.9672, 0.5735]], dtype=torch.float64)\n",
            "\n",
            "PyTorch to NumPy:\n",
            "[[0.4742412  0.18070197 0.8403842  0.76807445]\n",
            " [0.16172433 0.38045657 0.36540294 0.07461929]\n",
            " [0.14040214 0.1504271  0.70544404 0.26614398]]\n"
          ]
        }
      ]
    },
    {
      "cell_type": "code",
      "source": [
        "# NumPy and PyTorch Tensor Operations on MNIST Dataset\n",
        "\n",
        "import numpy as np\n",
        "import torch\n",
        "import matplotlib.pyplot as plt\n",
        "from torchvision import datasets, transforms\n",
        "\n",
        "# Load MNIST dataset\n",
        "transform = transforms.Compose([transforms.ToTensor()])\n",
        "mnist_train = datasets.MNIST(root='./data', train=True, download=True, transform=transform)\n",
        "mnist_test = datasets.MNIST(root='./data', train=False, download=True, transform=transform)\n",
        "\n",
        "# Create a batch of MNIST images\n",
        "batch_size = 64\n",
        "train_loader = torch.utils.data.DataLoader(mnist_train, batch_size=batch_size, shuffle=True)\n",
        "images, labels = next(iter(train_loader))\n",
        "print(\"Shape of the batch:\", images.shape)\n",
        "\n",
        "# Concatenation\n",
        "# Concatenate along the batch dimension\n",
        "concat_images = torch.cat((images, images), dim=0)\n",
        "print(\"Shape after concatenation:\", concat_images.shape)"
      ],
      "metadata": {
        "colab": {
          "base_uri": "https://localhost:8080/"
        },
        "id": "M0BQVLMgH753",
        "outputId": "b5da982b-8d87-41dd-d52a-084b77aa4a22"
      },
      "execution_count": null,
      "outputs": [
        {
          "output_type": "stream",
          "name": "stdout",
          "text": [
            "Shape of the batch: torch.Size([64, 1, 28, 28])\n",
            "Shape after concatenation: torch.Size([128, 1, 28, 28])\n"
          ]
        }
      ]
    },
    {
      "cell_type": "code",
      "source": [
        "import torch\n",
        "import numpy as np\n",
        "import matplotlib.pyplot as plt\n",
        "\n",
        "# Example tensor with shape (batch_size, channels, height, width)\n",
        "images = torch.randn(32, 3, 64, 64)  # This is an example tensor\n",
        "\n",
        "# Cell 4: Add and Remove Dimensions\n",
        "# Add a new dimension at position 1\n",
        "expanded_images = images.unsqueeze(1)\n",
        "print(\"Shape after adding dimension:\", expanded_images.shape)\n",
        "\n",
        "# Remove the added dimension\n",
        "squeezed_images = expanded_images.squeeze(1)\n",
        "print(\"Shape after removing dimension:\", squeezed_images.shape)\n",
        "\n",
        "# Cell 5: Flatten Tensors\n",
        "# Flatten the tensor to have shape (batch_size, -1)\n",
        "flattened_images = images.view(images.size(0), -1)\n",
        "print(\"Shape of flattened images:\", flattened_images.shape)\n",
        "\n",
        "# Cell 6: Slicing\n",
        "# Get the first 10 images\n",
        "first_10_images = images[:10]\n",
        "print(\"Shape of first 10 images:\", first_10_images.shape)\n",
        "\n",
        "# Get all channels of the first image\n",
        "first_image_all_channels = images[0]\n",
        "print(\"Shape of first image (all channels):\", first_image_all_channels.shape)\n",
        "\n",
        "# Get a 14x14 slice from the center of each image\n",
        "height, width = images.shape[2], images.shape[3]\n",
        "center_crop_size = 14\n",
        "start_h = height // 2 - center_crop_size // 2\n",
        "start_w = width // 2 - center_crop_size // 2\n",
        "center_slice = images[:, :, start_h:start_h+center_crop_size, start_w:start_w+center_crop_size]\n",
        "print(\"Shape of center slice:\", center_slice.shape)\n",
        "\n",
        "# Cell 7: Visualize Original and Manipulated Images\n",
        "plt.figure(figsize=(15, 5))\n",
        "\n",
        "# Original image\n",
        "plt.subplot(1, 3, 1)\n",
        "plt.imshow(images[0].permute(1, 2, 0))\n",
        "plt.title(\"Original Image\")\n",
        "plt.axis('off')\n",
        "\n",
        "# Flattened and reshaped image\n",
        "plt.subplot(1, 3, 2)\n",
        "# Reshape the first flattened image back to (3, 64, 64) for visualization\n",
        "reshaped_flattened_image = flattened_images[0].view(3, 64, 64)\n",
        "plt.imshow(reshaped_flattened_image.permute(1, 2, 0))\n",
        "plt.title(\"Flattened and Reshaped Image\")\n",
        "plt.axis('off')\n",
        "\n",
        "# Center slice\n",
        "plt.subplot(1, 3, 3)\n",
        "plt.imshow(center_slice[0].permute(1, 2, 0))\n",
        "plt.title(\"Center Slice\")\n",
        "plt.axis('off')\n",
        "\n",
        "plt.tight_layout()\n",
        "plt.show()\n",
        "\n",
        "# Cell 8: Convert Between NumPy and PyTorch\n",
        "# Convert the PyTorch 'images' tensor to a NumPy array\n",
        "np_images = images.numpy()\n",
        "print(\"Shape of NumPy array:\", np_images.shape)\n",
        "\n",
        "# Convert the NumPy array back to a PyTorch tensor\n",
        "torch_images = torch.from_numpy(np_images)\n",
        "print(\"Shape of PyTorch tensor:\", torch_images.shape)\n",
        "import numpy as np\n",
        "import torch\n",
        "import matplotlib.pyplot as plt\n",
        "from torchvision import datasets, transforms\n",
        "\n",
        "# Download and load the dataset\n",
        "transform = transforms.Compose([transforms.ToTensor()])\n",
        "dataset = datasets.MNIST(root='data', train=True, download=True, transform=transform)\n",
        "dataloader = torch.utils.data.DataLoader(dataset, batch_size=32, shuffle=True)\n",
        "\n",
        "# Get a batch of images\n",
        "images, labels = next(iter(dataloader))\n",
        "\n",
        "# Cell 4: Add and remove dimensions\n",
        "# TODO: Add a new dimension to the 'images' tensor\n",
        "expanded_images = images.unsqueeze(1)  # Adding a new dimension\n",
        "print(\"Shape after adding dimension:\", expanded_images.shape)\n",
        "\n",
        "# TODO: Remove the added dimension from 'expanded_images'\n",
        "squeezed_images = expanded_images.squeeze(1)  # Removing the added dimension\n",
        "print(\"Shape after removing dimension:\", squeezed_images.shape)\n",
        "\n",
        "# Cell 5: Flatten tensors\n",
        "# TODO: Flatten the 'images' tensor to have shape (batch_size, -1)\n",
        "flattened_images = images.view(images.size(0), -1)  # Flattening the tensor\n",
        "print(\"Shape of flattened images:\", flattened_images.shape)\n",
        "\n",
        "# Cell 6: Slicing\n",
        "# TODO: Get the first 10 images from the 'images' tensor\n",
        "first_10_images = images[:10]  # Slicing to get the first 10 images\n",
        "print(\"Shape of first 10 images:\", first_10_images.shape)\n",
        "\n",
        "# TODO: Get all channels of the first image\n",
        "first_image_all_channels = images[0]  # Getting all channels of the first image\n",
        "print(\"Shape of first image (all channels):\", first_image_all_channels.shape)\n",
        "\n",
        "# TODO: Get a 14x14 slice from the center of each image\n",
        "center_slice = images[:, :, 7:21, 7:21]  # Center slice from each image\n",
        "print(\"Shape of center slice:\", center_slice.shape)\n",
        "\n",
        "# Cell 7: Visualize original and manipulated images\n",
        "# TODO: Complete the visualization code\n",
        "plt.figure(figsize=(15, 5))\n",
        "\n",
        "# Original image\n",
        "plt.subplot(1, 3, 1)\n",
        "plt.imshow(images[0].squeeze(), cmap='gray')\n",
        "plt.title(\"Original Image\")\n",
        "plt.axis('off')\n",
        "\n",
        "# Flattened and reshaped image\n",
        "plt.subplot(1, 3, 2)\n",
        "plt.imshow(flattened_images[0].view(28, 28), cmap='gray')  # Reshape back to 28x28\n",
        "plt.title(\"Flattened and Reshaped Image\")\n",
        "plt.axis('off')\n",
        "\n",
        "# Center slice\n",
        "plt.subplot(1, 3, 3)\n",
        "plt.imshow(center_slice[0].squeeze(), cmap='gray')  # Display the center slice\n",
        "plt.title(\"Center Slice\")\n",
        "plt.axis('off')\n",
        "\n",
        "plt.tight_layout()\n",
        "plt.show()\n",
        "\n",
        "# Cell 8: Convert between NumPy and PyTorch\n",
        "# TODO: Convert the PyTorch 'images' tensor to a NumPy array\n",
        "np_images = images.numpy()  # Convert to NumPy array\n",
        "print(\"Shape of NumPy array:\", np_images.shape)\n",
        "\n",
        "# TODO: Convert the NumPy array back to a PyTorch tensor\n",
        "torch_images = torch.from_numpy(np_images)  # Convert back to PyTorch tensor\n",
        "print(\"Shape of PyTorch tensor:\", torch_images.shape)\n"
      ],
      "metadata": {
        "colab": {
          "base_uri": "https://localhost:8080/",
          "height": 1000
        },
        "id": "J8AnLlS7H789",
        "outputId": "8ec0322f-46e5-49bb-9718-27e720aa84cd"
      },
      "execution_count": null,
      "outputs": [
        {
          "output_type": "stream",
          "name": "stderr",
          "text": [
            "WARNING:matplotlib.image:Clipping input data to the valid range for imshow with RGB data ([0..1] for floats or [0..255] for integers).\n",
            "WARNING:matplotlib.image:Clipping input data to the valid range for imshow with RGB data ([0..1] for floats or [0..255] for integers).\n",
            "WARNING:matplotlib.image:Clipping input data to the valid range for imshow with RGB data ([0..1] for floats or [0..255] for integers).\n"
          ]
        },
        {
          "output_type": "stream",
          "name": "stdout",
          "text": [
            "Shape after adding dimension: torch.Size([32, 1, 3, 64, 64])\n",
            "Shape after removing dimension: torch.Size([32, 3, 64, 64])\n",
            "Shape of flattened images: torch.Size([32, 12288])\n",
            "Shape of first 10 images: torch.Size([10, 3, 64, 64])\n",
            "Shape of first image (all channels): torch.Size([3, 64, 64])\n",
            "Shape of center slice: torch.Size([32, 3, 14, 14])\n"
          ]
        },
        {
          "output_type": "display_data",
          "data": {
            "text/plain": [
              "<Figure size 1500x500 with 3 Axes>"
            ],
            "image/png": "[encoded data removed]"
          },
          "metadata": {}
        },
        {
          "output_type": "stream",
          "name": "stdout",
          "text": [
            "Shape of NumPy array: (32, 3, 64, 64)\n",
            "Shape of PyTorch tensor: torch.Size([32, 3, 64, 64])\n",
            "Shape after adding dimension: torch.Size([32, 1, 1, 28, 28])\n",
            "Shape after removing dimension: torch.Size([32, 1, 28, 28])\n",
            "Shape of flattened images: torch.Size([32, 784])\n",
            "Shape of first 10 images: torch.Size([10, 1, 28, 28])\n",
            "Shape of first image (all channels): torch.Size([1, 28, 28])\n",
            "Shape of center slice: torch.Size([32, 1, 14, 14])\n"
          ]
        },
        {
          "output_type": "display_data",
          "data": {
            "text/plain": [
              "<Figure size 1500x500 with 3 Axes>"
            ],
            "image/png": "[encoded data removed]"
          },
          "metadata": {}
        },
        {
          "output_type": "stream",
          "name": "stdout",
          "text": [
            "Shape of NumPy array: (32, 1, 28, 28)\n",
            "Shape of PyTorch tensor: torch.Size([32, 1, 28, 28])\n"
          ]
        }
      ]
    },
    {
      "cell_type": "code",
      "source": [],
      "metadata": {
        "id": "pdXcnNq7H7_5"
      },
      "execution_count": null,
      "outputs": []
    },
    {
      "cell_type": "code",
      "source": [
        "\n",
        "\n",
        "\n",
        "\n",
        "\n",
        "\n",
        "\n",
        "\n"
      ],
      "metadata": {
        "id": "md-fJmyRH8DD"
      },
      "execution_count": null,
      "outputs": []
    }
  ]
}