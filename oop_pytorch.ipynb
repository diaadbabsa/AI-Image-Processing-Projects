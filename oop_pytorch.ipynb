{
  "nbformat": 4,
  "nbformat_minor": 0,
  "metadata": {
    "colab": {
      "provenance": [],
      "include_colab_link": true
    },
    "kernelspec": {
      "name": "python3",
      "display_name": "Python 3"
    },
    "language_info": {
      "name": "python"
    }
  },
  "cells": [
    {
      "cell_type": "markdown",
      "metadata": {
        "id": "view-in-github",
        "colab_type": "text"
      },
      "source": [
        "<a href=\"https://colab.research.google.com/github/diaadbabsa/AI-Image-Processing-Projects/blob/main/oop_pytorch.ipynb\" target=\"_parent\"><img src=\"https://colab.research.google.com/assets/colab-badge.svg\" alt=\"Open In Colab\"/></a>"
      ]
    },
    {
      "cell_type": "markdown",
      "source": [
        "# Optional Assignment: Object-Oriented Programming in Python\n",
        "\n",
        "## Introduction\n",
        "\n",
        "This optional assignment will help you become familiar with Object-Oriented Programming (OOP) concepts in Python, specifically focusing on classes. Understanding these concepts will be beneficial when you start learning PyTorch.\n",
        "\n",
        "## Part 1: Creating a Simple Class\n",
        "\n",
        "Create a class called `Rectangle` that represents a rectangle shape. The class should have the following features:\n",
        "\n",
        "- Attributes for width and height\n",
        "- A method to calculate the area\n",
        "- A method to calculate the perimeter\n",
        "\n"
      ],
      "metadata": {
        "id": "T08vHGryTatO"
      }
    },
    {
      "cell_type": "code",
      "source": [
        "class Rectangle:\n",
        "    def __init__(self, width, height):\n",
        "        self.width = width\n",
        "        self.height = height\n",
        "\n",
        "    def calculate_area(self):\n",
        "        return self.width * self.height\n",
        "\n",
        "    def calculate_perimeter(self):\n",
        "        return 2 * (self.width + self.height)\n",
        "\n",
        "# Test your Rectangle class\n",
        "rect = Rectangle(5, 3)\n",
        "print(f\"Area: {rect.calculate_area()}\")\n",
        "print(f\"Perimeter: {rect.calculate_perimeter()}\")\n"
      ],
      "metadata": {
        "id": "a3rdCGqeTna4",
        "colab": {
          "base_uri": "https://localhost:8080/"
        },
        "outputId": "89c75e7c-cdec-4c13-99e9-17eb2c475100"
      },
      "execution_count": 1,
      "outputs": [
        {
          "output_type": "stream",
          "name": "stdout",
          "text": [
            "Area: 15\n",
            "Perimeter: 16\n"
          ]
        }
      ]
    },
    {
      "cell_type": "markdown",
      "source": [
        "## Part 2: Inheritance\n",
        "\n",
        "Create a `Square` class that inherits from the `Rectangle` class. The `Square` class should:\n",
        "\n",
        "- Have only one side length parameter in its constructor\n",
        "- Override the `__init__` method to set both width and height to the same value\n"
      ],
      "metadata": {
        "id": "rplSjtYiTu5I"
      }
    },
    {
      "cell_type": "code",
      "source": [
        "class Square(Rectangle):\n",
        "    def __init__(self, side_length):\n",
        "        super().__init__(side_length, side_length)\n",
        "\n",
        "# Test your Square class\n",
        "square = Square(4)\n",
        "print(f\"Square Area: {square.calculate_area()}\")\n",
        "print(f\"Square Perimeter: {square.calculate_perimeter()}\")\n"
      ],
      "metadata": {
        "id": "Y_8UMw-IT1cd",
        "colab": {
          "base_uri": "https://localhost:8080/"
        },
        "outputId": "a2205073-e4b2-447d-a171-a726b3c85ad1"
      },
      "execution_count": 2,
      "outputs": [
        {
          "output_type": "stream",
          "name": "stdout",
          "text": [
            "Square Area: 16\n",
            "Square Perimeter: 16\n"
          ]
        }
      ]
    },
    {
      "cell_type": "markdown",
      "source": [
        "## Part 3: Polymorphism\n",
        "\n",
        "Create a `Circle` class and demonstrate polymorphism:\n"
      ],
      "metadata": {
        "id": "9Gpx2vltUrFA"
      }
    },
    {
      "cell_type": "code",
      "source": [
        "import math\n",
        "\n",
        "class Shape:\n",
        "    def area(self):\n",
        "        pass\n",
        "\n",
        "class Rectangle(Shape):\n",
        "    def __init__(self, width, height):\n",
        "        self.width = width\n",
        "        self.height = height\n",
        "\n",
        "    def area(self):\n",
        "        return self.width * self.height\n",
        "\n",
        "class Circle(Shape):\n",
        "    def __init__(self, radius):\n",
        "        self.radius = radius\n",
        "\n",
        "    def area(self):\n",
        "        return math.pi * (self.radius ** 2)\n",
        "\n",
        "def print_area(shape):\n",
        "    print(f\"The area is: {shape.area()}\")\n",
        "\n",
        "# Test polymorphism\n",
        "rect = Rectangle(5, 3)\n",
        "circ = Circle(4)\n",
        "\n",
        "print_area(rect)\n",
        "print_area(circ)\n"
      ],
      "metadata": {
        "id": "IA__fEHiUqU4",
        "colab": {
          "base_uri": "https://localhost:8080/"
        },
        "outputId": "dfb3fb28-5a00-4a2f-858b-4d9711c8f921"
      },
      "execution_count": 3,
      "outputs": [
        {
          "output_type": "stream",
          "name": "stdout",
          "text": [
            "The area is: 15\n",
            "The area is: 50.26548245743669\n"
          ]
        }
      ]
    }
  ]
}